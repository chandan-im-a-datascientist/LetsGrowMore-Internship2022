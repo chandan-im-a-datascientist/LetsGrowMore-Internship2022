{
 "cells": [
  {
   "cell_type": "markdown",
   "id": "e782b7df",
   "metadata": {
    "papermill": {
     "duration": 0.060704,
     "end_time": "2022-05-21T22:11:14.250658",
     "exception": false,
     "start_time": "2022-05-21T22:11:14.189954",
     "status": "completed"
    },
    "tags": []
   },
   "source": [
    "#                                                   **LetsGrowMore Virtual  Internship June-2022**\n",
    "\n",
    "\n",
    "\n",
    "#    **TASK01- Iris Flowers Classification ML Project**\n",
    "                                                    \n",
    " **DISCRIPTION:This particular ML project is usually referred to as the “Hello World” of Machine Learning. The iris     flowers dataset contains numeric attributes, and it is perfect for beginners to learn about supervised ML algorithms, mainly how to load and handle data. Also, since this is a small dataset, it can easily fit in memory without requiring special transformations or scaling capabilities**\n",
    "                                                    "
   ]
  },
  {
   "cell_type": "markdown",
   "id": "0341bd2b",
   "metadata": {
    "papermill": {
     "duration": 0.056255,
     "end_time": "2022-05-21T22:11:14.366186",
     "exception": false,
     "start_time": "2022-05-21T22:11:14.309931",
     "status": "completed"
    },
    "tags": []
   },
   "source": [
    "# **Project by CHANDAN MOHANTY**"
   ]
  },
  {
   "cell_type": "markdown",
   "id": "e406c330",
   "metadata": {
    "papermill": {
     "duration": 0.056528,
     "end_time": "2022-05-21T22:11:14.479182",
     "exception": false,
     "start_time": "2022-05-21T22:11:14.422654",
     "status": "completed"
    },
    "tags": []
   },
   "source": [
    "# **Task-1 : BEGINNER LEVEL TASK**"
   ]
  },
  {
   "cell_type": "markdown",
   "id": "f9df56bf",
   "metadata": {
    "papermill": {
     "duration": 0.07535,
     "end_time": "2022-05-21T22:11:14.613853",
     "exception": false,
     "start_time": "2022-05-21T22:11:14.538503",
     "status": "completed"
    },
    "tags": []
   },
   "source": [
    "# **Kaggle Auto-imported Library**"
   ]
  },
  {
   "cell_type": "code",
   "execution_count": 1,
   "id": "be75c689",
   "metadata": {
    "_cell_guid": "b1076dfc-b9ad-4769-8c92-a6c4dae69d19",
    "_uuid": "8f2839f25d086af736a60e9eeb907d3b93b6e0e5",
    "execution": {
     "iopub.execute_input": "2022-05-21T22:11:14.736519Z",
     "iopub.status.busy": "2022-05-21T22:11:14.736035Z",
     "iopub.status.idle": "2022-05-21T22:11:14.757947Z",
     "shell.execute_reply": "2022-05-21T22:11:14.757330Z"
    },
    "papermill": {
     "duration": 0.085262,
     "end_time": "2022-05-21T22:11:14.761080",
     "exception": false,
     "start_time": "2022-05-21T22:11:14.675818",
     "status": "completed"
    },
    "tags": []
   },
   "outputs": [
    {
     "name": "stdout",
     "output_type": "stream",
     "text": [
      "/kaggle/input/iris/Iris.csv\n",
      "/kaggle/input/iris/database.sqlite\n"
     ]
    }
   ],
   "source": [
    "import os\n",
    "for dirname, _, filenames in os.walk('/kaggle/input'):\n",
    "    for filename in filenames:\n",
    "        print(os.path.join(dirname, filename))"
   ]
  },
  {
   "cell_type": "markdown",
   "id": "14d2a5d2",
   "metadata": {
    "papermill": {
     "duration": 0.056642,
     "end_time": "2022-05-21T22:11:14.876344",
     "exception": false,
     "start_time": "2022-05-21T22:11:14.819702",
     "status": "completed"
    },
    "tags": []
   },
   "source": [
    "**IMPORTING LIBRARIES**"
   ]
  },
  {
   "cell_type": "code",
   "execution_count": 2,
   "id": "19b70914",
   "metadata": {
    "execution": {
     "iopub.execute_input": "2022-05-21T22:11:14.995515Z",
     "iopub.status.busy": "2022-05-21T22:11:14.995052Z",
     "iopub.status.idle": "2022-05-21T22:11:15.984655Z",
     "shell.execute_reply": "2022-05-21T22:11:15.983935Z"
    },
    "papermill": {
     "duration": 1.051206,
     "end_time": "2022-05-21T22:11:15.987026",
     "exception": false,
     "start_time": "2022-05-21T22:11:14.935820",
     "status": "completed"
    },
    "tags": []
   },
   "outputs": [],
   "source": [
    "import pandas as pd                  #------------------------dataframe ,datamanipulation and etc.\n",
    "import numpy as np                   #------------------------perform scientific calulation and nd array operation , matrices and etc\n",
    "import seaborn as sns                #------------------------visualize the data on the plot such as scatterplot and etc\n",
    "import matplotlib.pyplot as plt      #------------------------visualization of data sets"
   ]
  },
  {
   "cell_type": "markdown",
   "id": "b17efba7",
   "metadata": {
    "papermill": {
     "duration": 0.057315,
     "end_time": "2022-05-21T22:11:16.103375",
     "exception": false,
     "start_time": "2022-05-21T22:11:16.046060",
     "status": "completed"
    },
    "tags": []
   },
   "source": [
    "**IMPORTING THE DATA SET**"
   ]
  },
  {
   "cell_type": "code",
   "execution_count": 3,
   "id": "89223034",
   "metadata": {
    "execution": {
     "iopub.execute_input": "2022-05-21T22:11:16.221869Z",
     "iopub.status.busy": "2022-05-21T22:11:16.221608Z",
     "iopub.status.idle": "2022-05-21T22:11:16.234344Z",
     "shell.execute_reply": "2022-05-21T22:11:16.233661Z"
    },
    "papermill": {
     "duration": 0.073638,
     "end_time": "2022-05-21T22:11:16.236622",
     "exception": false,
     "start_time": "2022-05-21T22:11:16.162984",
     "status": "completed"
    },
    "tags": []
   },
   "outputs": [],
   "source": [
    "data_path='../input/iris/Iris.csv'\n",
    "iris_data=pd.read_csv(data_path)"
   ]
  },
  {
   "cell_type": "markdown",
   "id": "d8d4baa0",
   "metadata": {
    "papermill": {
     "duration": 0.056269,
     "end_time": "2022-05-21T22:11:16.351356",
     "exception": false,
     "start_time": "2022-05-21T22:11:16.295087",
     "status": "completed"
    },
    "tags": []
   },
   "source": [
    "**DATA EXPLORATION**"
   ]
  },
  {
   "cell_type": "code",
   "execution_count": 4,
   "id": "17ceea44",
   "metadata": {
    "execution": {
     "iopub.execute_input": "2022-05-21T22:11:16.466606Z",
     "iopub.status.busy": "2022-05-21T22:11:16.465869Z",
     "iopub.status.idle": "2022-05-21T22:11:16.487305Z",
     "shell.execute_reply": "2022-05-21T22:11:16.486707Z"
    },
    "papermill": {
     "duration": 0.081268,
     "end_time": "2022-05-21T22:11:16.489268",
     "exception": false,
     "start_time": "2022-05-21T22:11:16.408000",
     "status": "completed"
    },
    "tags": []
   },
   "outputs": [
    {
     "data": {
      "text/html": [
       "<div>\n",
       "<style scoped>\n",
       "    .dataframe tbody tr th:only-of-type {\n",
       "        vertical-align: middle;\n",
       "    }\n",
       "\n",
       "    .dataframe tbody tr th {\n",
       "        vertical-align: top;\n",
       "    }\n",
       "\n",
       "    .dataframe thead th {\n",
       "        text-align: right;\n",
       "    }\n",
       "</style>\n",
       "<table border=\"1\" class=\"dataframe\">\n",
       "  <thead>\n",
       "    <tr style=\"text-align: right;\">\n",
       "      <th></th>\n",
       "      <th>Id</th>\n",
       "      <th>SepalLengthCm</th>\n",
       "      <th>SepalWidthCm</th>\n",
       "      <th>PetalLengthCm</th>\n",
       "      <th>PetalWidthCm</th>\n",
       "      <th>Species</th>\n",
       "    </tr>\n",
       "  </thead>\n",
       "  <tbody>\n",
       "    <tr>\n",
       "      <th>0</th>\n",
       "      <td>1</td>\n",
       "      <td>5.1</td>\n",
       "      <td>3.5</td>\n",
       "      <td>1.4</td>\n",
       "      <td>0.2</td>\n",
       "      <td>Iris-setosa</td>\n",
       "    </tr>\n",
       "    <tr>\n",
       "      <th>1</th>\n",
       "      <td>2</td>\n",
       "      <td>4.9</td>\n",
       "      <td>3.0</td>\n",
       "      <td>1.4</td>\n",
       "      <td>0.2</td>\n",
       "      <td>Iris-setosa</td>\n",
       "    </tr>\n",
       "    <tr>\n",
       "      <th>2</th>\n",
       "      <td>3</td>\n",
       "      <td>4.7</td>\n",
       "      <td>3.2</td>\n",
       "      <td>1.3</td>\n",
       "      <td>0.2</td>\n",
       "      <td>Iris-setosa</td>\n",
       "    </tr>\n",
       "    <tr>\n",
       "      <th>3</th>\n",
       "      <td>4</td>\n",
       "      <td>4.6</td>\n",
       "      <td>3.1</td>\n",
       "      <td>1.5</td>\n",
       "      <td>0.2</td>\n",
       "      <td>Iris-setosa</td>\n",
       "    </tr>\n",
       "    <tr>\n",
       "      <th>4</th>\n",
       "      <td>5</td>\n",
       "      <td>5.0</td>\n",
       "      <td>3.6</td>\n",
       "      <td>1.4</td>\n",
       "      <td>0.2</td>\n",
       "      <td>Iris-setosa</td>\n",
       "    </tr>\n",
       "  </tbody>\n",
       "</table>\n",
       "</div>"
      ],
      "text/plain": [
       "   Id  SepalLengthCm  SepalWidthCm  PetalLengthCm  PetalWidthCm      Species\n",
       "0   1            5.1           3.5            1.4           0.2  Iris-setosa\n",
       "1   2            4.9           3.0            1.4           0.2  Iris-setosa\n",
       "2   3            4.7           3.2            1.3           0.2  Iris-setosa\n",
       "3   4            4.6           3.1            1.5           0.2  Iris-setosa\n",
       "4   5            5.0           3.6            1.4           0.2  Iris-setosa"
      ]
     },
     "execution_count": 4,
     "metadata": {},
     "output_type": "execute_result"
    }
   ],
   "source": [
    "iris_data.head()                   #------visualization of first 5 by default records"
   ]
  },
  {
   "cell_type": "code",
   "execution_count": 5,
   "id": "b4829947",
   "metadata": {
    "execution": {
     "iopub.execute_input": "2022-05-21T22:11:16.607533Z",
     "iopub.status.busy": "2022-05-21T22:11:16.606994Z",
     "iopub.status.idle": "2022-05-21T22:11:16.612009Z",
     "shell.execute_reply": "2022-05-21T22:11:16.611356Z"
    },
    "papermill": {
     "duration": 0.066493,
     "end_time": "2022-05-21T22:11:16.614027",
     "exception": false,
     "start_time": "2022-05-21T22:11:16.547534",
     "status": "completed"
    },
    "tags": []
   },
   "outputs": [
    {
     "data": {
      "text/plain": [
       "(150, 6)"
      ]
     },
     "execution_count": 5,
     "metadata": {},
     "output_type": "execute_result"
    }
   ],
   "source": [
    "iris_data.shape             #-----------defines the no of columns and no of rows  as like rows,columns"
   ]
  },
  {
   "cell_type": "code",
   "execution_count": 6,
   "id": "0e4da885",
   "metadata": {
    "execution": {
     "iopub.execute_input": "2022-05-21T22:11:16.736867Z",
     "iopub.status.busy": "2022-05-21T22:11:16.736257Z",
     "iopub.status.idle": "2022-05-21T22:11:16.760879Z",
     "shell.execute_reply": "2022-05-21T22:11:16.760152Z"
    },
    "papermill": {
     "duration": 0.088244,
     "end_time": "2022-05-21T22:11:16.763294",
     "exception": false,
     "start_time": "2022-05-21T22:11:16.675050",
     "status": "completed"
    },
    "tags": []
   },
   "outputs": [
    {
     "name": "stdout",
     "output_type": "stream",
     "text": [
      "<class 'pandas.core.frame.DataFrame'>\n",
      "RangeIndex: 150 entries, 0 to 149\n",
      "Data columns (total 6 columns):\n",
      " #   Column         Non-Null Count  Dtype  \n",
      "---  ------         --------------  -----  \n",
      " 0   Id             150 non-null    int64  \n",
      " 1   SepalLengthCm  150 non-null    float64\n",
      " 2   SepalWidthCm   150 non-null    float64\n",
      " 3   PetalLengthCm  150 non-null    float64\n",
      " 4   PetalWidthCm   150 non-null    float64\n",
      " 5   Species        150 non-null    object \n",
      "dtypes: float64(4), int64(1), object(1)\n",
      "memory usage: 7.2+ KB\n"
     ]
    }
   ],
   "source": [
    "iris_data.info()                    #------------------this the information of the data set "
   ]
  },
  {
   "cell_type": "code",
   "execution_count": 7,
   "id": "fbed1009",
   "metadata": {
    "execution": {
     "iopub.execute_input": "2022-05-21T22:11:16.883398Z",
     "iopub.status.busy": "2022-05-21T22:11:16.882811Z",
     "iopub.status.idle": "2022-05-21T22:11:16.888708Z",
     "shell.execute_reply": "2022-05-21T22:11:16.888078Z"
    },
    "papermill": {
     "duration": 0.068124,
     "end_time": "2022-05-21T22:11:16.890926",
     "exception": false,
     "start_time": "2022-05-21T22:11:16.822802",
     "status": "completed"
    },
    "tags": []
   },
   "outputs": [
    {
     "data": {
      "text/plain": [
       "Index(['Id', 'SepalLengthCm', 'SepalWidthCm', 'PetalLengthCm', 'PetalWidthCm',\n",
       "       'Species'],\n",
       "      dtype='object')"
      ]
     },
     "execution_count": 7,
     "metadata": {},
     "output_type": "execute_result"
    }
   ],
   "source": [
    "iris_data.columns"
   ]
  },
  {
   "cell_type": "code",
   "execution_count": 8,
   "id": "a190bb5f",
   "metadata": {
    "execution": {
     "iopub.execute_input": "2022-05-21T22:11:17.017216Z",
     "iopub.status.busy": "2022-05-21T22:11:17.016677Z",
     "iopub.status.idle": "2022-05-21T22:11:17.022981Z",
     "shell.execute_reply": "2022-05-21T22:11:17.022313Z"
    },
    "papermill": {
     "duration": 0.072553,
     "end_time": "2022-05-21T22:11:17.025312",
     "exception": false,
     "start_time": "2022-05-21T22:11:16.952759",
     "status": "completed"
    },
    "tags": []
   },
   "outputs": [],
   "source": [
    "iris_data= iris_data.drop(columns=['Id'],axis=1)     #-----droping the unnessecary columns i.e 'ID' in this case and -------here axis=1 means the column"
   ]
  },
  {
   "cell_type": "code",
   "execution_count": 9,
   "id": "3db336ae",
   "metadata": {
    "execution": {
     "iopub.execute_input": "2022-05-21T22:11:17.154329Z",
     "iopub.status.busy": "2022-05-21T22:11:17.153638Z",
     "iopub.status.idle": "2022-05-21T22:11:17.166923Z",
     "shell.execute_reply": "2022-05-21T22:11:17.166225Z"
    },
    "papermill": {
     "duration": 0.080405,
     "end_time": "2022-05-21T22:11:17.168947",
     "exception": false,
     "start_time": "2022-05-21T22:11:17.088542",
     "status": "completed"
    },
    "tags": []
   },
   "outputs": [
    {
     "data": {
      "text/html": [
       "<div>\n",
       "<style scoped>\n",
       "    .dataframe tbody tr th:only-of-type {\n",
       "        vertical-align: middle;\n",
       "    }\n",
       "\n",
       "    .dataframe tbody tr th {\n",
       "        vertical-align: top;\n",
       "    }\n",
       "\n",
       "    .dataframe thead th {\n",
       "        text-align: right;\n",
       "    }\n",
       "</style>\n",
       "<table border=\"1\" class=\"dataframe\">\n",
       "  <thead>\n",
       "    <tr style=\"text-align: right;\">\n",
       "      <th></th>\n",
       "      <th>SepalLengthCm</th>\n",
       "      <th>SepalWidthCm</th>\n",
       "      <th>PetalLengthCm</th>\n",
       "      <th>PetalWidthCm</th>\n",
       "      <th>Species</th>\n",
       "    </tr>\n",
       "  </thead>\n",
       "  <tbody>\n",
       "    <tr>\n",
       "      <th>0</th>\n",
       "      <td>5.1</td>\n",
       "      <td>3.5</td>\n",
       "      <td>1.4</td>\n",
       "      <td>0.2</td>\n",
       "      <td>Iris-setosa</td>\n",
       "    </tr>\n",
       "    <tr>\n",
       "      <th>1</th>\n",
       "      <td>4.9</td>\n",
       "      <td>3.0</td>\n",
       "      <td>1.4</td>\n",
       "      <td>0.2</td>\n",
       "      <td>Iris-setosa</td>\n",
       "    </tr>\n",
       "    <tr>\n",
       "      <th>2</th>\n",
       "      <td>4.7</td>\n",
       "      <td>3.2</td>\n",
       "      <td>1.3</td>\n",
       "      <td>0.2</td>\n",
       "      <td>Iris-setosa</td>\n",
       "    </tr>\n",
       "    <tr>\n",
       "      <th>3</th>\n",
       "      <td>4.6</td>\n",
       "      <td>3.1</td>\n",
       "      <td>1.5</td>\n",
       "      <td>0.2</td>\n",
       "      <td>Iris-setosa</td>\n",
       "    </tr>\n",
       "    <tr>\n",
       "      <th>4</th>\n",
       "      <td>5.0</td>\n",
       "      <td>3.6</td>\n",
       "      <td>1.4</td>\n",
       "      <td>0.2</td>\n",
       "      <td>Iris-setosa</td>\n",
       "    </tr>\n",
       "  </tbody>\n",
       "</table>\n",
       "</div>"
      ],
      "text/plain": [
       "   SepalLengthCm  SepalWidthCm  PetalLengthCm  PetalWidthCm      Species\n",
       "0            5.1           3.5            1.4           0.2  Iris-setosa\n",
       "1            4.9           3.0            1.4           0.2  Iris-setosa\n",
       "2            4.7           3.2            1.3           0.2  Iris-setosa\n",
       "3            4.6           3.1            1.5           0.2  Iris-setosa\n",
       "4            5.0           3.6            1.4           0.2  Iris-setosa"
      ]
     },
     "execution_count": 9,
     "metadata": {},
     "output_type": "execute_result"
    }
   ],
   "source": [
    "iris_data.head()           #------visualization of first 5 by default records after omiting the unessecary columns"
   ]
  },
  {
   "cell_type": "code",
   "execution_count": 10,
   "id": "c1cc8f14",
   "metadata": {
    "execution": {
     "iopub.execute_input": "2022-05-21T22:11:17.292293Z",
     "iopub.status.busy": "2022-05-21T22:11:17.291779Z",
     "iopub.status.idle": "2022-05-21T22:11:17.306384Z",
     "shell.execute_reply": "2022-05-21T22:11:17.305735Z"
    },
    "papermill": {
     "duration": 0.078046,
     "end_time": "2022-05-21T22:11:17.308301",
     "exception": false,
     "start_time": "2022-05-21T22:11:17.230255",
     "status": "completed"
    },
    "tags": []
   },
   "outputs": [
    {
     "data": {
      "text/html": [
       "<div>\n",
       "<style scoped>\n",
       "    .dataframe tbody tr th:only-of-type {\n",
       "        vertical-align: middle;\n",
       "    }\n",
       "\n",
       "    .dataframe tbody tr th {\n",
       "        vertical-align: top;\n",
       "    }\n",
       "\n",
       "    .dataframe thead th {\n",
       "        text-align: right;\n",
       "    }\n",
       "</style>\n",
       "<table border=\"1\" class=\"dataframe\">\n",
       "  <thead>\n",
       "    <tr style=\"text-align: right;\">\n",
       "      <th></th>\n",
       "      <th>SepalLengthCm</th>\n",
       "      <th>SepalWidthCm</th>\n",
       "      <th>PetalLengthCm</th>\n",
       "      <th>PetalWidthCm</th>\n",
       "      <th>Species</th>\n",
       "    </tr>\n",
       "  </thead>\n",
       "  <tbody>\n",
       "    <tr>\n",
       "      <th>0</th>\n",
       "      <td>5.1</td>\n",
       "      <td>3.5</td>\n",
       "      <td>1.4</td>\n",
       "      <td>0.2</td>\n",
       "      <td>Iris-setosa</td>\n",
       "    </tr>\n",
       "    <tr>\n",
       "      <th>1</th>\n",
       "      <td>4.9</td>\n",
       "      <td>3.0</td>\n",
       "      <td>1.4</td>\n",
       "      <td>0.2</td>\n",
       "      <td>Iris-setosa</td>\n",
       "    </tr>\n",
       "    <tr>\n",
       "      <th>2</th>\n",
       "      <td>4.7</td>\n",
       "      <td>3.2</td>\n",
       "      <td>1.3</td>\n",
       "      <td>0.2</td>\n",
       "      <td>Iris-setosa</td>\n",
       "    </tr>\n",
       "    <tr>\n",
       "      <th>3</th>\n",
       "      <td>4.6</td>\n",
       "      <td>3.1</td>\n",
       "      <td>1.5</td>\n",
       "      <td>0.2</td>\n",
       "      <td>Iris-setosa</td>\n",
       "    </tr>\n",
       "    <tr>\n",
       "      <th>4</th>\n",
       "      <td>5.0</td>\n",
       "      <td>3.6</td>\n",
       "      <td>1.4</td>\n",
       "      <td>0.2</td>\n",
       "      <td>Iris-setosa</td>\n",
       "    </tr>\n",
       "    <tr>\n",
       "      <th>5</th>\n",
       "      <td>5.4</td>\n",
       "      <td>3.9</td>\n",
       "      <td>1.7</td>\n",
       "      <td>0.4</td>\n",
       "      <td>Iris-setosa</td>\n",
       "    </tr>\n",
       "    <tr>\n",
       "      <th>6</th>\n",
       "      <td>4.6</td>\n",
       "      <td>3.4</td>\n",
       "      <td>1.4</td>\n",
       "      <td>0.3</td>\n",
       "      <td>Iris-setosa</td>\n",
       "    </tr>\n",
       "    <tr>\n",
       "      <th>7</th>\n",
       "      <td>5.0</td>\n",
       "      <td>3.4</td>\n",
       "      <td>1.5</td>\n",
       "      <td>0.2</td>\n",
       "      <td>Iris-setosa</td>\n",
       "    </tr>\n",
       "    <tr>\n",
       "      <th>8</th>\n",
       "      <td>4.4</td>\n",
       "      <td>2.9</td>\n",
       "      <td>1.4</td>\n",
       "      <td>0.2</td>\n",
       "      <td>Iris-setosa</td>\n",
       "    </tr>\n",
       "    <tr>\n",
       "      <th>9</th>\n",
       "      <td>4.9</td>\n",
       "      <td>3.1</td>\n",
       "      <td>1.5</td>\n",
       "      <td>0.1</td>\n",
       "      <td>Iris-setosa</td>\n",
       "    </tr>\n",
       "  </tbody>\n",
       "</table>\n",
       "</div>"
      ],
      "text/plain": [
       "   SepalLengthCm  SepalWidthCm  PetalLengthCm  PetalWidthCm      Species\n",
       "0            5.1           3.5            1.4           0.2  Iris-setosa\n",
       "1            4.9           3.0            1.4           0.2  Iris-setosa\n",
       "2            4.7           3.2            1.3           0.2  Iris-setosa\n",
       "3            4.6           3.1            1.5           0.2  Iris-setosa\n",
       "4            5.0           3.6            1.4           0.2  Iris-setosa\n",
       "5            5.4           3.9            1.7           0.4  Iris-setosa\n",
       "6            4.6           3.4            1.4           0.3  Iris-setosa\n",
       "7            5.0           3.4            1.5           0.2  Iris-setosa\n",
       "8            4.4           2.9            1.4           0.2  Iris-setosa\n",
       "9            4.9           3.1            1.5           0.1  Iris-setosa"
      ]
     },
     "execution_count": 10,
     "metadata": {},
     "output_type": "execute_result"
    }
   ],
   "source": [
    "iris_data.head(10)     #----visualization of first 10 records of data"
   ]
  },
  {
   "cell_type": "code",
   "execution_count": 11,
   "id": "b6613c2b",
   "metadata": {
    "execution": {
     "iopub.execute_input": "2022-05-21T22:11:17.429867Z",
     "iopub.status.busy": "2022-05-21T22:11:17.429285Z",
     "iopub.status.idle": "2022-05-21T22:11:17.454390Z",
     "shell.execute_reply": "2022-05-21T22:11:17.453681Z"
    },
    "papermill": {
     "duration": 0.088283,
     "end_time": "2022-05-21T22:11:17.456383",
     "exception": false,
     "start_time": "2022-05-21T22:11:17.368100",
     "status": "completed"
    },
    "tags": []
   },
   "outputs": [
    {
     "data": {
      "text/html": [
       "<div>\n",
       "<style scoped>\n",
       "    .dataframe tbody tr th:only-of-type {\n",
       "        vertical-align: middle;\n",
       "    }\n",
       "\n",
       "    .dataframe tbody tr th {\n",
       "        vertical-align: top;\n",
       "    }\n",
       "\n",
       "    .dataframe thead th {\n",
       "        text-align: right;\n",
       "    }\n",
       "</style>\n",
       "<table border=\"1\" class=\"dataframe\">\n",
       "  <thead>\n",
       "    <tr style=\"text-align: right;\">\n",
       "      <th></th>\n",
       "      <th>SepalLengthCm</th>\n",
       "      <th>SepalWidthCm</th>\n",
       "      <th>PetalLengthCm</th>\n",
       "      <th>PetalWidthCm</th>\n",
       "    </tr>\n",
       "  </thead>\n",
       "  <tbody>\n",
       "    <tr>\n",
       "      <th>count</th>\n",
       "      <td>150.000000</td>\n",
       "      <td>150.000000</td>\n",
       "      <td>150.000000</td>\n",
       "      <td>150.000000</td>\n",
       "    </tr>\n",
       "    <tr>\n",
       "      <th>mean</th>\n",
       "      <td>5.843333</td>\n",
       "      <td>3.054000</td>\n",
       "      <td>3.758667</td>\n",
       "      <td>1.198667</td>\n",
       "    </tr>\n",
       "    <tr>\n",
       "      <th>std</th>\n",
       "      <td>0.828066</td>\n",
       "      <td>0.433594</td>\n",
       "      <td>1.764420</td>\n",
       "      <td>0.763161</td>\n",
       "    </tr>\n",
       "    <tr>\n",
       "      <th>min</th>\n",
       "      <td>4.300000</td>\n",
       "      <td>2.000000</td>\n",
       "      <td>1.000000</td>\n",
       "      <td>0.100000</td>\n",
       "    </tr>\n",
       "    <tr>\n",
       "      <th>25%</th>\n",
       "      <td>5.100000</td>\n",
       "      <td>2.800000</td>\n",
       "      <td>1.600000</td>\n",
       "      <td>0.300000</td>\n",
       "    </tr>\n",
       "    <tr>\n",
       "      <th>50%</th>\n",
       "      <td>5.800000</td>\n",
       "      <td>3.000000</td>\n",
       "      <td>4.350000</td>\n",
       "      <td>1.300000</td>\n",
       "    </tr>\n",
       "    <tr>\n",
       "      <th>75%</th>\n",
       "      <td>6.400000</td>\n",
       "      <td>3.300000</td>\n",
       "      <td>5.100000</td>\n",
       "      <td>1.800000</td>\n",
       "    </tr>\n",
       "    <tr>\n",
       "      <th>max</th>\n",
       "      <td>7.900000</td>\n",
       "      <td>4.400000</td>\n",
       "      <td>6.900000</td>\n",
       "      <td>2.500000</td>\n",
       "    </tr>\n",
       "  </tbody>\n",
       "</table>\n",
       "</div>"
      ],
      "text/plain": [
       "       SepalLengthCm  SepalWidthCm  PetalLengthCm  PetalWidthCm\n",
       "count     150.000000    150.000000     150.000000    150.000000\n",
       "mean        5.843333      3.054000       3.758667      1.198667\n",
       "std         0.828066      0.433594       1.764420      0.763161\n",
       "min         4.300000      2.000000       1.000000      0.100000\n",
       "25%         5.100000      2.800000       1.600000      0.300000\n",
       "50%         5.800000      3.000000       4.350000      1.300000\n",
       "75%         6.400000      3.300000       5.100000      1.800000\n",
       "max         7.900000      4.400000       6.900000      2.500000"
      ]
     },
     "execution_count": 11,
     "metadata": {},
     "output_type": "execute_result"
    }
   ],
   "source": [
    "iris_data.describe()"
   ]
  },
  {
   "cell_type": "code",
   "execution_count": 12,
   "id": "a90ccab6",
   "metadata": {
    "execution": {
     "iopub.execute_input": "2022-05-21T22:11:17.581668Z",
     "iopub.status.busy": "2022-05-21T22:11:17.581100Z",
     "iopub.status.idle": "2022-05-21T22:11:17.591832Z",
     "shell.execute_reply": "2022-05-21T22:11:17.591113Z"
    },
    "papermill": {
     "duration": 0.076787,
     "end_time": "2022-05-21T22:11:17.594878",
     "exception": false,
     "start_time": "2022-05-21T22:11:17.518091",
     "status": "completed"
    },
    "tags": []
   },
   "outputs": [
    {
     "name": "stdout",
     "output_type": "stream",
     "text": [
      "<class 'pandas.core.frame.DataFrame'>\n",
      "RangeIndex: 150 entries, 0 to 149\n",
      "Data columns (total 5 columns):\n",
      " #   Column         Non-Null Count  Dtype  \n",
      "---  ------         --------------  -----  \n",
      " 0   SepalLengthCm  150 non-null    float64\n",
      " 1   SepalWidthCm   150 non-null    float64\n",
      " 2   PetalLengthCm  150 non-null    float64\n",
      " 3   PetalWidthCm   150 non-null    float64\n",
      " 4   Species        150 non-null    object \n",
      "dtypes: float64(4), object(1)\n",
      "memory usage: 6.0+ KB\n"
     ]
    }
   ],
   "source": [
    "iris_data.info()"
   ]
  },
  {
   "cell_type": "code",
   "execution_count": 13,
   "id": "75db04a4",
   "metadata": {
    "execution": {
     "iopub.execute_input": "2022-05-21T22:11:17.725150Z",
     "iopub.status.busy": "2022-05-21T22:11:17.724610Z",
     "iopub.status.idle": "2022-05-21T22:11:17.738975Z",
     "shell.execute_reply": "2022-05-21T22:11:17.738184Z"
    },
    "papermill": {
     "duration": 0.081047,
     "end_time": "2022-05-21T22:11:17.741163",
     "exception": false,
     "start_time": "2022-05-21T22:11:17.660116",
     "status": "completed"
    },
    "tags": []
   },
   "outputs": [
    {
     "data": {
      "text/html": [
       "<div>\n",
       "<style scoped>\n",
       "    .dataframe tbody tr th:only-of-type {\n",
       "        vertical-align: middle;\n",
       "    }\n",
       "\n",
       "    .dataframe tbody tr th {\n",
       "        vertical-align: top;\n",
       "    }\n",
       "\n",
       "    .dataframe thead th {\n",
       "        text-align: right;\n",
       "    }\n",
       "</style>\n",
       "<table border=\"1\" class=\"dataframe\">\n",
       "  <thead>\n",
       "    <tr style=\"text-align: right;\">\n",
       "      <th></th>\n",
       "      <th>SepalLengthCm</th>\n",
       "      <th>SepalWidthCm</th>\n",
       "      <th>PetalLengthCm</th>\n",
       "      <th>PetalWidthCm</th>\n",
       "      <th>Species</th>\n",
       "    </tr>\n",
       "  </thead>\n",
       "  <tbody>\n",
       "    <tr>\n",
       "      <th>140</th>\n",
       "      <td>6.7</td>\n",
       "      <td>3.1</td>\n",
       "      <td>5.6</td>\n",
       "      <td>2.4</td>\n",
       "      <td>Iris-virginica</td>\n",
       "    </tr>\n",
       "    <tr>\n",
       "      <th>141</th>\n",
       "      <td>6.9</td>\n",
       "      <td>3.1</td>\n",
       "      <td>5.1</td>\n",
       "      <td>2.3</td>\n",
       "      <td>Iris-virginica</td>\n",
       "    </tr>\n",
       "    <tr>\n",
       "      <th>142</th>\n",
       "      <td>5.8</td>\n",
       "      <td>2.7</td>\n",
       "      <td>5.1</td>\n",
       "      <td>1.9</td>\n",
       "      <td>Iris-virginica</td>\n",
       "    </tr>\n",
       "    <tr>\n",
       "      <th>143</th>\n",
       "      <td>6.8</td>\n",
       "      <td>3.2</td>\n",
       "      <td>5.9</td>\n",
       "      <td>2.3</td>\n",
       "      <td>Iris-virginica</td>\n",
       "    </tr>\n",
       "    <tr>\n",
       "      <th>144</th>\n",
       "      <td>6.7</td>\n",
       "      <td>3.3</td>\n",
       "      <td>5.7</td>\n",
       "      <td>2.5</td>\n",
       "      <td>Iris-virginica</td>\n",
       "    </tr>\n",
       "    <tr>\n",
       "      <th>145</th>\n",
       "      <td>6.7</td>\n",
       "      <td>3.0</td>\n",
       "      <td>5.2</td>\n",
       "      <td>2.3</td>\n",
       "      <td>Iris-virginica</td>\n",
       "    </tr>\n",
       "    <tr>\n",
       "      <th>146</th>\n",
       "      <td>6.3</td>\n",
       "      <td>2.5</td>\n",
       "      <td>5.0</td>\n",
       "      <td>1.9</td>\n",
       "      <td>Iris-virginica</td>\n",
       "    </tr>\n",
       "    <tr>\n",
       "      <th>147</th>\n",
       "      <td>6.5</td>\n",
       "      <td>3.0</td>\n",
       "      <td>5.2</td>\n",
       "      <td>2.0</td>\n",
       "      <td>Iris-virginica</td>\n",
       "    </tr>\n",
       "    <tr>\n",
       "      <th>148</th>\n",
       "      <td>6.2</td>\n",
       "      <td>3.4</td>\n",
       "      <td>5.4</td>\n",
       "      <td>2.3</td>\n",
       "      <td>Iris-virginica</td>\n",
       "    </tr>\n",
       "    <tr>\n",
       "      <th>149</th>\n",
       "      <td>5.9</td>\n",
       "      <td>3.0</td>\n",
       "      <td>5.1</td>\n",
       "      <td>1.8</td>\n",
       "      <td>Iris-virginica</td>\n",
       "    </tr>\n",
       "  </tbody>\n",
       "</table>\n",
       "</div>"
      ],
      "text/plain": [
       "     SepalLengthCm  SepalWidthCm  PetalLengthCm  PetalWidthCm         Species\n",
       "140            6.7           3.1            5.6           2.4  Iris-virginica\n",
       "141            6.9           3.1            5.1           2.3  Iris-virginica\n",
       "142            5.8           2.7            5.1           1.9  Iris-virginica\n",
       "143            6.8           3.2            5.9           2.3  Iris-virginica\n",
       "144            6.7           3.3            5.7           2.5  Iris-virginica\n",
       "145            6.7           3.0            5.2           2.3  Iris-virginica\n",
       "146            6.3           2.5            5.0           1.9  Iris-virginica\n",
       "147            6.5           3.0            5.2           2.0  Iris-virginica\n",
       "148            6.2           3.4            5.4           2.3  Iris-virginica\n",
       "149            5.9           3.0            5.1           1.8  Iris-virginica"
      ]
     },
     "execution_count": 13,
     "metadata": {},
     "output_type": "execute_result"
    }
   ],
   "source": [
    "iris_data.tail(10)        #-----------visualization of last 10 records"
   ]
  },
  {
   "cell_type": "code",
   "execution_count": 14,
   "id": "03701c21",
   "metadata": {
    "execution": {
     "iopub.execute_input": "2022-05-21T22:11:17.871413Z",
     "iopub.status.busy": "2022-05-21T22:11:17.870881Z",
     "iopub.status.idle": "2022-05-21T22:11:17.879911Z",
     "shell.execute_reply": "2022-05-21T22:11:17.879071Z"
    },
    "papermill": {
     "duration": 0.078475,
     "end_time": "2022-05-21T22:11:17.882205",
     "exception": false,
     "start_time": "2022-05-21T22:11:17.803730",
     "status": "completed"
    },
    "tags": []
   },
   "outputs": [
    {
     "data": {
      "text/plain": [
       "SepalLengthCm    35\n",
       "SepalWidthCm     23\n",
       "PetalLengthCm    43\n",
       "PetalWidthCm     22\n",
       "Species           3\n",
       "dtype: int64"
      ]
     },
     "execution_count": 14,
     "metadata": {},
     "output_type": "execute_result"
    }
   ],
   "source": [
    "iris_data.nunique()              #--------no of unique data/ values in an column"
   ]
  },
  {
   "cell_type": "code",
   "execution_count": 15,
   "id": "a4898f0f",
   "metadata": {
    "execution": {
     "iopub.execute_input": "2022-05-21T22:11:18.011658Z",
     "iopub.status.busy": "2022-05-21T22:11:18.011086Z",
     "iopub.status.idle": "2022-05-21T22:11:18.016309Z",
     "shell.execute_reply": "2022-05-21T22:11:18.015699Z"
    },
    "papermill": {
     "duration": 0.072815,
     "end_time": "2022-05-21T22:11:18.018169",
     "exception": false,
     "start_time": "2022-05-21T22:11:17.945354",
     "status": "completed"
    },
    "tags": []
   },
   "outputs": [
    {
     "data": {
      "text/plain": [
       "3"
      ]
     },
     "execution_count": 15,
     "metadata": {},
     "output_type": "execute_result"
    }
   ],
   "source": [
    "iris_data.Species.nunique()"
   ]
  },
  {
   "cell_type": "markdown",
   "id": "aedfb656",
   "metadata": {
    "papermill": {
     "duration": 0.063026,
     "end_time": "2022-05-21T22:11:18.147116",
     "exception": false,
     "start_time": "2022-05-21T22:11:18.084090",
     "status": "completed"
    },
    "tags": []
   },
   "source": [
    "**DATA CLEANING**"
   ]
  },
  {
   "cell_type": "code",
   "execution_count": 16,
   "id": "7f4c1d97",
   "metadata": {
    "execution": {
     "iopub.execute_input": "2022-05-21T22:11:18.273138Z",
     "iopub.status.busy": "2022-05-21T22:11:18.272617Z",
     "iopub.status.idle": "2022-05-21T22:11:18.287235Z",
     "shell.execute_reply": "2022-05-21T22:11:18.286651Z"
    },
    "papermill": {
     "duration": 0.080183,
     "end_time": "2022-05-21T22:11:18.289232",
     "exception": false,
     "start_time": "2022-05-21T22:11:18.209049",
     "status": "completed"
    },
    "tags": []
   },
   "outputs": [
    {
     "data": {
      "text/html": [
       "<div>\n",
       "<style scoped>\n",
       "    .dataframe tbody tr th:only-of-type {\n",
       "        vertical-align: middle;\n",
       "    }\n",
       "\n",
       "    .dataframe tbody tr th {\n",
       "        vertical-align: top;\n",
       "    }\n",
       "\n",
       "    .dataframe thead th {\n",
       "        text-align: right;\n",
       "    }\n",
       "</style>\n",
       "<table border=\"1\" class=\"dataframe\">\n",
       "  <thead>\n",
       "    <tr style=\"text-align: right;\">\n",
       "      <th></th>\n",
       "      <th>SepalLengthCm</th>\n",
       "      <th>SepalWidthCm</th>\n",
       "      <th>PetalLengthCm</th>\n",
       "      <th>PetalWidthCm</th>\n",
       "      <th>Species</th>\n",
       "    </tr>\n",
       "  </thead>\n",
       "  <tbody>\n",
       "    <tr>\n",
       "      <th>0</th>\n",
       "      <td>False</td>\n",
       "      <td>False</td>\n",
       "      <td>False</td>\n",
       "      <td>False</td>\n",
       "      <td>False</td>\n",
       "    </tr>\n",
       "    <tr>\n",
       "      <th>1</th>\n",
       "      <td>False</td>\n",
       "      <td>False</td>\n",
       "      <td>False</td>\n",
       "      <td>False</td>\n",
       "      <td>False</td>\n",
       "    </tr>\n",
       "    <tr>\n",
       "      <th>2</th>\n",
       "      <td>False</td>\n",
       "      <td>False</td>\n",
       "      <td>False</td>\n",
       "      <td>False</td>\n",
       "      <td>False</td>\n",
       "    </tr>\n",
       "    <tr>\n",
       "      <th>3</th>\n",
       "      <td>False</td>\n",
       "      <td>False</td>\n",
       "      <td>False</td>\n",
       "      <td>False</td>\n",
       "      <td>False</td>\n",
       "    </tr>\n",
       "    <tr>\n",
       "      <th>4</th>\n",
       "      <td>False</td>\n",
       "      <td>False</td>\n",
       "      <td>False</td>\n",
       "      <td>False</td>\n",
       "      <td>False</td>\n",
       "    </tr>\n",
       "    <tr>\n",
       "      <th>...</th>\n",
       "      <td>...</td>\n",
       "      <td>...</td>\n",
       "      <td>...</td>\n",
       "      <td>...</td>\n",
       "      <td>...</td>\n",
       "    </tr>\n",
       "    <tr>\n",
       "      <th>145</th>\n",
       "      <td>False</td>\n",
       "      <td>False</td>\n",
       "      <td>False</td>\n",
       "      <td>False</td>\n",
       "      <td>False</td>\n",
       "    </tr>\n",
       "    <tr>\n",
       "      <th>146</th>\n",
       "      <td>False</td>\n",
       "      <td>False</td>\n",
       "      <td>False</td>\n",
       "      <td>False</td>\n",
       "      <td>False</td>\n",
       "    </tr>\n",
       "    <tr>\n",
       "      <th>147</th>\n",
       "      <td>False</td>\n",
       "      <td>False</td>\n",
       "      <td>False</td>\n",
       "      <td>False</td>\n",
       "      <td>False</td>\n",
       "    </tr>\n",
       "    <tr>\n",
       "      <th>148</th>\n",
       "      <td>False</td>\n",
       "      <td>False</td>\n",
       "      <td>False</td>\n",
       "      <td>False</td>\n",
       "      <td>False</td>\n",
       "    </tr>\n",
       "    <tr>\n",
       "      <th>149</th>\n",
       "      <td>False</td>\n",
       "      <td>False</td>\n",
       "      <td>False</td>\n",
       "      <td>False</td>\n",
       "      <td>False</td>\n",
       "    </tr>\n",
       "  </tbody>\n",
       "</table>\n",
       "<p>150 rows × 5 columns</p>\n",
       "</div>"
      ],
      "text/plain": [
       "     SepalLengthCm  SepalWidthCm  PetalLengthCm  PetalWidthCm  Species\n",
       "0            False         False          False         False    False\n",
       "1            False         False          False         False    False\n",
       "2            False         False          False         False    False\n",
       "3            False         False          False         False    False\n",
       "4            False         False          False         False    False\n",
       "..             ...           ...            ...           ...      ...\n",
       "145          False         False          False         False    False\n",
       "146          False         False          False         False    False\n",
       "147          False         False          False         False    False\n",
       "148          False         False          False         False    False\n",
       "149          False         False          False         False    False\n",
       "\n",
       "[150 rows x 5 columns]"
      ]
     },
     "execution_count": 16,
     "metadata": {},
     "output_type": "execute_result"
    }
   ],
   "source": [
    "iris_data.isnull()"
   ]
  },
  {
   "cell_type": "code",
   "execution_count": 17,
   "id": "105bfd87",
   "metadata": {
    "execution": {
     "iopub.execute_input": "2022-05-21T22:11:18.416972Z",
     "iopub.status.busy": "2022-05-21T22:11:18.416368Z",
     "iopub.status.idle": "2022-05-21T22:11:18.424060Z",
     "shell.execute_reply": "2022-05-21T22:11:18.423108Z"
    },
    "papermill": {
     "duration": 0.073584,
     "end_time": "2022-05-21T22:11:18.426309",
     "exception": false,
     "start_time": "2022-05-21T22:11:18.352725",
     "status": "completed"
    },
    "tags": []
   },
   "outputs": [
    {
     "data": {
      "text/plain": [
       "SepalLengthCm    0\n",
       "SepalWidthCm     0\n",
       "PetalLengthCm    0\n",
       "PetalWidthCm     0\n",
       "Species          0\n",
       "dtype: int64"
      ]
     },
     "execution_count": 17,
     "metadata": {},
     "output_type": "execute_result"
    }
   ],
   "source": [
    "iris_data.isnull().sum()"
   ]
  },
  {
   "cell_type": "code",
   "execution_count": 18,
   "id": "1795c3e2",
   "metadata": {
    "execution": {
     "iopub.execute_input": "2022-05-21T22:11:18.559643Z",
     "iopub.status.busy": "2022-05-21T22:11:18.559334Z",
     "iopub.status.idle": "2022-05-21T22:11:18.567155Z",
     "shell.execute_reply": "2022-05-21T22:11:18.566449Z"
    },
    "papermill": {
     "duration": 0.077301,
     "end_time": "2022-05-21T22:11:18.568928",
     "exception": false,
     "start_time": "2022-05-21T22:11:18.491627",
     "status": "completed"
    },
    "tags": []
   },
   "outputs": [
    {
     "data": {
      "text/plain": [
       "SepalLengthCm               7.9\n",
       "SepalWidthCm                4.4\n",
       "PetalLengthCm               6.9\n",
       "PetalWidthCm                2.5\n",
       "Species          Iris-virginica\n",
       "dtype: object"
      ]
     },
     "execution_count": 18,
     "metadata": {},
     "output_type": "execute_result"
    }
   ],
   "source": [
    "iris_data.max()"
   ]
  },
  {
   "cell_type": "code",
   "execution_count": 19,
   "id": "52acbdc7",
   "metadata": {
    "execution": {
     "iopub.execute_input": "2022-05-21T22:11:18.704164Z",
     "iopub.status.busy": "2022-05-21T22:11:18.703596Z",
     "iopub.status.idle": "2022-05-21T22:11:18.708263Z",
     "shell.execute_reply": "2022-05-21T22:11:18.707612Z"
    },
    "papermill": {
     "duration": 0.075388,
     "end_time": "2022-05-21T22:11:18.710136",
     "exception": false,
     "start_time": "2022-05-21T22:11:18.634748",
     "status": "completed"
    },
    "tags": []
   },
   "outputs": [
    {
     "name": "stdout",
     "output_type": "stream",
     "text": [
      "THE MOST OCCURRED SPECIES IS :  Iris-virginica\n"
     ]
    }
   ],
   "source": [
    "print(\"THE MOST OCCURRED SPECIES IS : \",iris_data.Species.max())"
   ]
  },
  {
   "cell_type": "code",
   "execution_count": 20,
   "id": "edbe88fd",
   "metadata": {
    "execution": {
     "iopub.execute_input": "2022-05-21T22:11:18.841293Z",
     "iopub.status.busy": "2022-05-21T22:11:18.840674Z",
     "iopub.status.idle": "2022-05-21T22:11:18.847717Z",
     "shell.execute_reply": "2022-05-21T22:11:18.847027Z"
    },
    "papermill": {
     "duration": 0.074,
     "end_time": "2022-05-21T22:11:18.849538",
     "exception": false,
     "start_time": "2022-05-21T22:11:18.775538",
     "status": "completed"
    },
    "tags": []
   },
   "outputs": [
    {
     "data": {
      "text/plain": [
       "SepalLengthCm            4.3\n",
       "SepalWidthCm             2.0\n",
       "PetalLengthCm            1.0\n",
       "PetalWidthCm             0.1\n",
       "Species          Iris-setosa\n",
       "dtype: object"
      ]
     },
     "execution_count": 20,
     "metadata": {},
     "output_type": "execute_result"
    }
   ],
   "source": [
    "iris_data.min()"
   ]
  },
  {
   "cell_type": "code",
   "execution_count": 21,
   "id": "47b9a61e",
   "metadata": {
    "execution": {
     "iopub.execute_input": "2022-05-21T22:11:18.982464Z",
     "iopub.status.busy": "2022-05-21T22:11:18.981913Z",
     "iopub.status.idle": "2022-05-21T22:11:18.987996Z",
     "shell.execute_reply": "2022-05-21T22:11:18.987331Z"
    },
    "papermill": {
     "duration": 0.074734,
     "end_time": "2022-05-21T22:11:18.989987",
     "exception": false,
     "start_time": "2022-05-21T22:11:18.915253",
     "status": "completed"
    },
    "tags": []
   },
   "outputs": [
    {
     "name": "stdout",
     "output_type": "stream",
     "text": [
      "THE LEAST OCCURRED SPECIES IS :  Iris-setosa\n"
     ]
    }
   ],
   "source": [
    "print(\"THE LEAST OCCURRED SPECIES IS : \",iris_data.Species.min())"
   ]
  },
  {
   "cell_type": "markdown",
   "id": "78f1f900",
   "metadata": {
    "papermill": {
     "duration": 0.064666,
     "end_time": "2022-05-21T22:11:19.120349",
     "exception": false,
     "start_time": "2022-05-21T22:11:19.055683",
     "status": "completed"
    },
    "tags": []
   },
   "source": [
    "# **EDA-Exploratory Data Analysis**"
   ]
  },
  {
   "cell_type": "code",
   "execution_count": 22,
   "id": "8e00e8be",
   "metadata": {
    "execution": {
     "iopub.execute_input": "2022-05-21T22:11:19.251540Z",
     "iopub.status.busy": "2022-05-21T22:11:19.250924Z",
     "iopub.status.idle": "2022-05-21T22:11:23.845233Z",
     "shell.execute_reply": "2022-05-21T22:11:23.844282Z"
    },
    "papermill": {
     "duration": 4.665156,
     "end_time": "2022-05-21T22:11:23.849952",
     "exception": false,
     "start_time": "2022-05-21T22:11:19.184796",
     "status": "completed"
    },
    "tags": []
   },
   "outputs": [
    {
     "data": {
      "text/plain": [
       "<seaborn.axisgrid.PairGrid at 0x7f4ad4ff6e10>"
      ]
     },
     "execution_count": 22,
     "metadata": {},
     "output_type": "execute_result"
    },
    {
     "data": {
      "text/plain": [
       "<Figure size 1080x720 with 0 Axes>"
      ]
     },
     "metadata": {},
     "output_type": "display_data"
    },
    {
     "data": {
      "image/png": "[encoded data removed]",
      "text/plain": [
       "<Figure size 823.25x720 with 20 Axes>"
      ]
     },
     "metadata": {
      "needs_background": "light"
     },
     "output_type": "display_data"
    }
   ],
   "source": [
    "plt.figure(figsize=(15,10))\n",
    "sns.pairplot(data=iris_data,hue='Species')      #------hue is a parameter that takes column as input and performs color encoding on it with other  respect to columns\n"
   ]
  },
  {
   "cell_type": "markdown",
   "id": "05bf2788",
   "metadata": {
    "papermill": {
     "duration": 0.073677,
     "end_time": "2022-05-21T22:11:23.996961",
     "exception": false,
     "start_time": "2022-05-21T22:11:23.923284",
     "status": "completed"
    },
    "tags": []
   },
   "source": [
    "In the above plotting three types of Species are differnciated by three differnt colors "
   ]
  },
  {
   "cell_type": "code",
   "execution_count": 23,
   "id": "5ac6d9f0",
   "metadata": {
    "execution": {
     "iopub.execute_input": "2022-05-21T22:11:24.146502Z",
     "iopub.status.busy": "2022-05-21T22:11:24.146092Z",
     "iopub.status.idle": "2022-05-21T22:11:24.368956Z",
     "shell.execute_reply": "2022-05-21T22:11:24.368284Z"
    },
    "papermill": {
     "duration": 0.298957,
     "end_time": "2022-05-21T22:11:24.371325",
     "exception": false,
     "start_time": "2022-05-21T22:11:24.072368",
     "status": "completed"
    },
    "tags": []
   },
   "outputs": [
    {
     "data": {
      "text/plain": [
       "<AxesSubplot:xlabel='Species', ylabel='SepalLengthCm'>"
      ]
     },
     "execution_count": 23,
     "metadata": {},
     "output_type": "execute_result"
    },
    {
     "data": {
      "image/png": "[encoded data removed]",
      "text/plain": [
       "<Figure size 720x720 with 1 Axes>"
      ]
     },
     "metadata": {
      "needs_background": "light"
     },
     "output_type": "display_data"
    }
   ],
   "source": [
    "plt.figure(figsize=(10,10))\n",
    "sns.boxplot(x='Species',y='SepalLengthCm',data=iris_data)             #------be carefull of spaces"
   ]
  },
  {
   "cell_type": "code",
   "execution_count": 24,
   "id": "d27dcead",
   "metadata": {
    "execution": {
     "iopub.execute_input": "2022-05-21T22:11:24.522784Z",
     "iopub.status.busy": "2022-05-21T22:11:24.522492Z",
     "iopub.status.idle": "2022-05-21T22:11:24.722319Z",
     "shell.execute_reply": "2022-05-21T22:11:24.721508Z"
    },
    "papermill": {
     "duration": 0.279594,
     "end_time": "2022-05-21T22:11:24.724380",
     "exception": false,
     "start_time": "2022-05-21T22:11:24.444786",
     "status": "completed"
    },
    "tags": []
   },
   "outputs": [
    {
     "data": {
      "text/plain": [
       "<AxesSubplot:xlabel='Species', ylabel='SepalWidthCm'>"
      ]
     },
     "execution_count": 24,
     "metadata": {},
     "output_type": "execute_result"
    },
    {
     "data": {
      "image/png": "[encoded data removed]",
      "text/plain": [
       "<Figure size 432x288 with 1 Axes>"
      ]
     },
     "metadata": {
      "needs_background": "light"
     },
     "output_type": "display_data"
    }
   ],
   "source": [
    "sns.boxplot(x='Species',y='SepalWidthCm',data=iris_data)"
   ]
  },
  {
   "cell_type": "code",
   "execution_count": 25,
   "id": "094db7fc",
   "metadata": {
    "execution": {
     "iopub.execute_input": "2022-05-21T22:11:24.878378Z",
     "iopub.status.busy": "2022-05-21T22:11:24.877744Z",
     "iopub.status.idle": "2022-05-21T22:11:25.092084Z",
     "shell.execute_reply": "2022-05-21T22:11:25.091433Z"
    },
    "papermill": {
     "duration": 0.29435,
     "end_time": "2022-05-21T22:11:25.094185",
     "exception": false,
     "start_time": "2022-05-21T22:11:24.799835",
     "status": "completed"
    },
    "tags": []
   },
   "outputs": [
    {
     "data": {
      "text/plain": [
       "<AxesSubplot:xlabel='Species', ylabel='PetalLengthCm'>"
      ]
     },
     "execution_count": 25,
     "metadata": {},
     "output_type": "execute_result"
    },
    {
     "data": {
      "image/png": "[encoded data removed]",
      "text/plain": [
       "<Figure size 720x720 with 1 Axes>"
      ]
     },
     "metadata": {
      "needs_background": "light"
     },
     "output_type": "display_data"
    }
   ],
   "source": [
    "plt.figure(figsize=(10,10))\n",
    "sns.boxplot(x='Species',y='PetalLengthCm',data=iris_data) "
   ]
  },
  {
   "cell_type": "code",
   "execution_count": 26,
   "id": "03934d09",
   "metadata": {
    "execution": {
     "iopub.execute_input": "2022-05-21T22:11:25.246163Z",
     "iopub.status.busy": "2022-05-21T22:11:25.245602Z",
     "iopub.status.idle": "2022-05-21T22:11:25.406028Z",
     "shell.execute_reply": "2022-05-21T22:11:25.405336Z"
    },
    "papermill": {
     "duration": 0.239177,
     "end_time": "2022-05-21T22:11:25.408244",
     "exception": false,
     "start_time": "2022-05-21T22:11:25.169067",
     "status": "completed"
    },
    "tags": []
   },
   "outputs": [
    {
     "data": {
      "text/plain": [
       "<AxesSubplot:xlabel='Species', ylabel='PetalWidthCm'>"
      ]
     },
     "execution_count": 26,
     "metadata": {},
     "output_type": "execute_result"
    },
    {
     "data": {
      "image/png": "[encoded data removed]",
      "text/plain": [
       "<Figure size 720x720 with 1 Axes>"
      ]
     },
     "metadata": {
      "needs_background": "light"
     },
     "output_type": "display_data"
    }
   ],
   "source": [
    "plt.figure(figsize=(10,10))\n",
    "sns.boxplot(x='Species',y='PetalWidthCm',data=iris_data) "
   ]
  },
  {
   "cell_type": "code",
   "execution_count": 27,
   "id": "49ccbbad",
   "metadata": {
    "execution": {
     "iopub.execute_input": "2022-05-21T22:11:25.577323Z",
     "iopub.status.busy": "2022-05-21T22:11:25.576914Z",
     "iopub.status.idle": "2022-05-21T22:11:25.774134Z",
     "shell.execute_reply": "2022-05-21T22:11:25.773368Z"
    },
    "papermill": {
     "duration": 0.289399,
     "end_time": "2022-05-21T22:11:25.776319",
     "exception": false,
     "start_time": "2022-05-21T22:11:25.486920",
     "status": "completed"
    },
    "tags": []
   },
   "outputs": [
    {
     "data": {
      "text/plain": [
       "<AxesSubplot:ylabel='SepalLengthCm'>"
      ]
     },
     "execution_count": 27,
     "metadata": {},
     "output_type": "execute_result"
    },
    {
     "data": {
      "image/png": "[encoded data removed]",
      "text/plain": [
       "<Figure size 1080x720 with 1 Axes>"
      ]
     },
     "metadata": {
      "needs_background": "light"
     },
     "output_type": "display_data"
    }
   ],
   "source": [
    "plt.figure(figsize=(15,10))\n",
    "sns.boxplot(y='SepalLengthCm',data=iris_data)"
   ]
  },
  {
   "cell_type": "code",
   "execution_count": 28,
   "id": "94628020",
   "metadata": {
    "execution": {
     "iopub.execute_input": "2022-05-21T22:11:25.936487Z",
     "iopub.status.busy": "2022-05-21T22:11:25.936079Z",
     "iopub.status.idle": "2022-05-21T22:11:26.115871Z",
     "shell.execute_reply": "2022-05-21T22:11:26.114823Z"
    },
    "papermill": {
     "duration": 0.262416,
     "end_time": "2022-05-21T22:11:26.118222",
     "exception": false,
     "start_time": "2022-05-21T22:11:25.855806",
     "status": "completed"
    },
    "tags": []
   },
   "outputs": [
    {
     "data": {
      "text/plain": [
       "<AxesSubplot:ylabel='SepalWidthCm'>"
      ]
     },
     "execution_count": 28,
     "metadata": {},
     "output_type": "execute_result"
    },
    {
     "data": {
      "image/png": "[encoded data removed]",
      "text/plain": [
       "<Figure size 1080x720 with 1 Axes>"
      ]
     },
     "metadata": {
      "needs_background": "light"
     },
     "output_type": "display_data"
    }
   ],
   "source": [
    "plt.figure(figsize=(15,10))\n",
    "sns.boxplot(y='SepalWidthCm',data=iris_data)"
   ]
  },
  {
   "cell_type": "code",
   "execution_count": 29,
   "id": "4b9305e8",
   "metadata": {
    "execution": {
     "iopub.execute_input": "2022-05-21T22:11:26.281863Z",
     "iopub.status.busy": "2022-05-21T22:11:26.281526Z",
     "iopub.status.idle": "2022-05-21T22:11:26.467434Z",
     "shell.execute_reply": "2022-05-21T22:11:26.466871Z"
    },
    "papermill": {
     "duration": 0.270565,
     "end_time": "2022-05-21T22:11:26.469509",
     "exception": false,
     "start_time": "2022-05-21T22:11:26.198944",
     "status": "completed"
    },
    "tags": []
   },
   "outputs": [
    {
     "data": {
      "text/plain": [
       "<AxesSubplot:ylabel='PetalLengthCm'>"
      ]
     },
     "execution_count": 29,
     "metadata": {},
     "output_type": "execute_result"
    },
    {
     "data": {
      "image/png": "[encoded data removed]",
      "text/plain": [
       "<Figure size 1080x720 with 1 Axes>"
      ]
     },
     "metadata": {
      "needs_background": "light"
     },
     "output_type": "display_data"
    }
   ],
   "source": [
    "plt.figure(figsize=(15,10))\n",
    "sns.boxplot(y='PetalLengthCm',data=iris_data)"
   ]
  },
  {
   "cell_type": "code",
   "execution_count": 30,
   "id": "468191c5",
   "metadata": {
    "execution": {
     "iopub.execute_input": "2022-05-21T22:11:26.636681Z",
     "iopub.status.busy": "2022-05-21T22:11:26.636217Z",
     "iopub.status.idle": "2022-05-21T22:11:26.812915Z",
     "shell.execute_reply": "2022-05-21T22:11:26.812031Z"
    },
    "papermill": {
     "duration": 0.262987,
     "end_time": "2022-05-21T22:11:26.815262",
     "exception": false,
     "start_time": "2022-05-21T22:11:26.552275",
     "status": "completed"
    },
    "tags": []
   },
   "outputs": [
    {
     "data": {
      "text/plain": [
       "<AxesSubplot:ylabel='PetalWidthCm'>"
      ]
     },
     "execution_count": 30,
     "metadata": {},
     "output_type": "execute_result"
    },
    {
     "data": {
      "image/png": "[encoded data removed]",
      "text/plain": [
       "<Figure size 1080x720 with 1 Axes>"
      ]
     },
     "metadata": {
      "needs_background": "light"
     },
     "output_type": "display_data"
    }
   ],
   "source": [
    "plt.figure(figsize=(15,10))\n",
    "sns.boxplot(y='PetalWidthCm',data=iris_data)"
   ]
  },
  {
   "cell_type": "code",
   "execution_count": 31,
   "id": "2c08e856",
   "metadata": {
    "execution": {
     "iopub.execute_input": "2022-05-21T22:11:26.985028Z",
     "iopub.status.busy": "2022-05-21T22:11:26.984092Z",
     "iopub.status.idle": "2022-05-21T22:11:27.169385Z",
     "shell.execute_reply": "2022-05-21T22:11:27.168258Z"
    },
    "papermill": {
     "duration": 0.271638,
     "end_time": "2022-05-21T22:11:27.171830",
     "exception": false,
     "start_time": "2022-05-21T22:11:26.900192",
     "status": "completed"
    },
    "tags": []
   },
   "outputs": [
    {
     "data": {
      "text/plain": [
       "<AxesSubplot:xlabel='Species', ylabel='count'>"
      ]
     },
     "execution_count": 31,
     "metadata": {},
     "output_type": "execute_result"
    },
    {
     "data": {
      "image/png": "[encoded data removed]",
      "text/plain": [
       "<Figure size 1080x720 with 1 Axes>"
      ]
     },
     "metadata": {
      "needs_background": "light"
     },
     "output_type": "display_data"
    }
   ],
   "source": [
    "plt.figure(figsize=(15,10))\n",
    "sns.countplot(x='Species',data=iris_data)"
   ]
  },
  {
   "cell_type": "markdown",
   "id": "70df2b57",
   "metadata": {
    "papermill": {
     "duration": 0.082269,
     "end_time": "2022-05-21T22:11:27.339525",
     "exception": false,
     "start_time": "2022-05-21T22:11:27.257256",
     "status": "completed"
    },
    "tags": []
   },
   "source": [
    "This states the species are equal in the data set"
   ]
  },
  {
   "cell_type": "code",
   "execution_count": 32,
   "id": "c951c250",
   "metadata": {
    "execution": {
     "iopub.execute_input": "2022-05-21T22:11:27.507805Z",
     "iopub.status.busy": "2022-05-21T22:11:27.507196Z",
     "iopub.status.idle": "2022-05-21T22:11:27.818353Z",
     "shell.execute_reply": "2022-05-21T22:11:27.817751Z"
    },
    "papermill": {
     "duration": 0.398167,
     "end_time": "2022-05-21T22:11:27.820540",
     "exception": false,
     "start_time": "2022-05-21T22:11:27.422373",
     "status": "completed"
    },
    "tags": []
   },
   "outputs": [
    {
     "data": {
      "text/plain": [
       "<AxesSubplot:>"
      ]
     },
     "execution_count": 32,
     "metadata": {},
     "output_type": "execute_result"
    },
    {
     "data": {
      "image/png": "[encoded data removed]",
      "text/plain": [
       "<Figure size 1080x720 with 2 Axes>"
      ]
     },
     "metadata": {
      "needs_background": "light"
     },
     "output_type": "display_data"
    }
   ],
   "source": [
    "plt.figure(figsize=(15,10))\n",
    "sns.heatmap(iris_data.corr(),annot=True,cmap='coolwarm')"
   ]
  },
  {
   "cell_type": "code",
   "execution_count": 33,
   "id": "d0e33616",
   "metadata": {
    "execution": {
     "iopub.execute_input": "2022-05-21T22:11:27.994057Z",
     "iopub.status.busy": "2022-05-21T22:11:27.993535Z",
     "iopub.status.idle": "2022-05-21T22:11:28.398712Z",
     "shell.execute_reply": "2022-05-21T22:11:28.398067Z"
    },
    "papermill": {
     "duration": 0.493863,
     "end_time": "2022-05-21T22:11:28.400932",
     "exception": false,
     "start_time": "2022-05-21T22:11:27.907069",
     "status": "completed"
    },
    "tags": []
   },
   "outputs": [
    {
     "data": {
      "text/plain": [
       "<AxesSubplot:ylabel='Count'>"
      ]
     },
     "execution_count": 33,
     "metadata": {},
     "output_type": "execute_result"
    },
    {
     "data": {
      "image/png": "[encoded data removed]",
      "text/plain": [
       "<Figure size 720x720 with 1 Axes>"
      ]
     },
     "metadata": {
      "needs_background": "light"
     },
     "output_type": "display_data"
    }
   ],
   "source": [
    "plt.figure(figsize=(10,10))\n",
    "sns.histplot(data=iris_data, kde=True)"
   ]
  },
  {
   "cell_type": "code",
   "execution_count": 34,
   "id": "a64d6c11",
   "metadata": {
    "execution": {
     "iopub.execute_input": "2022-05-21T22:11:28.576418Z",
     "iopub.status.busy": "2022-05-21T22:11:28.575829Z",
     "iopub.status.idle": "2022-05-21T22:11:28.876718Z",
     "shell.execute_reply": "2022-05-21T22:11:28.876039Z"
    },
    "papermill": {
     "duration": 0.391209,
     "end_time": "2022-05-21T22:11:28.878938",
     "exception": false,
     "start_time": "2022-05-21T22:11:28.487729",
     "status": "completed"
    },
    "tags": []
   },
   "outputs": [
    {
     "data": {
      "text/plain": [
       "<AxesSubplot:xlabel='SepalLengthCm', ylabel='SepalWidthCm'>"
      ]
     },
     "execution_count": 34,
     "metadata": {},
     "output_type": "execute_result"
    },
    {
     "data": {
      "image/png": "[encoded data removed]",
      "text/plain": [
       "<Figure size 720x720 with 1 Axes>"
      ]
     },
     "metadata": {
      "needs_background": "light"
     },
     "output_type": "display_data"
    }
   ],
   "source": [
    "plt.figure(figsize=(10,10))\n",
    "sns.scatterplot(x='SepalLengthCm',y='SepalWidthCm',data=iris_data,marker='s', hue='Species')"
   ]
  },
  {
   "cell_type": "code",
   "execution_count": 35,
   "id": "ba478df9",
   "metadata": {
    "execution": {
     "iopub.execute_input": "2022-05-21T22:11:29.063258Z",
     "iopub.status.busy": "2022-05-21T22:11:29.062793Z",
     "iopub.status.idle": "2022-05-21T22:11:29.363142Z",
     "shell.execute_reply": "2022-05-21T22:11:29.362422Z"
    },
    "papermill": {
     "duration": 0.397749,
     "end_time": "2022-05-21T22:11:29.365227",
     "exception": false,
     "start_time": "2022-05-21T22:11:28.967478",
     "status": "completed"
    },
    "tags": []
   },
   "outputs": [
    {
     "data": {
      "text/plain": [
       "<AxesSubplot:xlabel='SepalLengthCm', ylabel='PetalLengthCm'>"
      ]
     },
     "execution_count": 35,
     "metadata": {},
     "output_type": "execute_result"
    },
    {
     "data": {
      "image/png": "[encoded data removed]",
      "text/plain": [
       "<Figure size 720x720 with 1 Axes>"
      ]
     },
     "metadata": {
      "needs_background": "light"
     },
     "output_type": "display_data"
    }
   ],
   "source": [
    "plt.figure(figsize=(10,10))\n",
    "sns.scatterplot(x='SepalLengthCm',y='PetalLengthCm',data=iris_data,marker='s', hue='Species')"
   ]
  },
  {
   "cell_type": "code",
   "execution_count": 36,
   "id": "7f3a29c7",
   "metadata": {
    "execution": {
     "iopub.execute_input": "2022-05-21T22:11:29.551277Z",
     "iopub.status.busy": "2022-05-21T22:11:29.550793Z",
     "iopub.status.idle": "2022-05-21T22:11:29.850398Z",
     "shell.execute_reply": "2022-05-21T22:11:29.849471Z"
    },
    "papermill": {
     "duration": 0.397696,
     "end_time": "2022-05-21T22:11:29.852912",
     "exception": false,
     "start_time": "2022-05-21T22:11:29.455216",
     "status": "completed"
    },
    "tags": []
   },
   "outputs": [
    {
     "data": {
      "text/plain": [
       "<AxesSubplot:xlabel='SepalLengthCm', ylabel='PetalWidthCm'>"
      ]
     },
     "execution_count": 36,
     "metadata": {},
     "output_type": "execute_result"
    },
    {
     "data": {
      "image/png": "[encoded data removed]",
      "text/plain": [
       "<Figure size 720x720 with 1 Axes>"
      ]
     },
     "metadata": {
      "needs_background": "light"
     },
     "output_type": "display_data"
    }
   ],
   "source": [
    "plt.figure(figsize=(10,10))\n",
    "sns.scatterplot(x='SepalLengthCm',y='PetalWidthCm',data=iris_data,marker='s', hue='Species')"
   ]
  },
  {
   "cell_type": "code",
   "execution_count": 37,
   "id": "2bf68671",
   "metadata": {
    "execution": {
     "iopub.execute_input": "2022-05-21T22:11:30.046209Z",
     "iopub.status.busy": "2022-05-21T22:11:30.045640Z",
     "iopub.status.idle": "2022-05-21T22:11:30.337056Z",
     "shell.execute_reply": "2022-05-21T22:11:30.336431Z"
    },
    "papermill": {
     "duration": 0.389267,
     "end_time": "2022-05-21T22:11:30.339251",
     "exception": false,
     "start_time": "2022-05-21T22:11:29.949984",
     "status": "completed"
    },
    "tags": []
   },
   "outputs": [
    {
     "data": {
      "text/plain": [
       "<AxesSubplot:xlabel='SepalWidthCm', ylabel='PetalWidthCm'>"
      ]
     },
     "execution_count": 37,
     "metadata": {},
     "output_type": "execute_result"
    },
    {
     "data": {
      "image/png": "[encoded data removed]",
      "text/plain": [
       "<Figure size 720x720 with 1 Axes>"
      ]
     },
     "metadata": {
      "needs_background": "light"
     },
     "output_type": "display_data"
    }
   ],
   "source": [
    "plt.figure(figsize=(10,10))\n",
    "sns.scatterplot(x='SepalWidthCm',y='PetalWidthCm',data=iris_data,marker='s', hue='Species')"
   ]
  },
  {
   "cell_type": "code",
   "execution_count": 38,
   "id": "07f21667",
   "metadata": {
    "execution": {
     "iopub.execute_input": "2022-05-21T22:11:30.529076Z",
     "iopub.status.busy": "2022-05-21T22:11:30.528620Z",
     "iopub.status.idle": "2022-05-21T22:11:30.982934Z",
     "shell.execute_reply": "2022-05-21T22:11:30.982275Z"
    },
    "papermill": {
     "duration": 0.551197,
     "end_time": "2022-05-21T22:11:30.985198",
     "exception": false,
     "start_time": "2022-05-21T22:11:30.434001",
     "status": "completed"
    },
    "tags": []
   },
   "outputs": [
    {
     "data": {
      "text/plain": [
       "<AxesSubplot:xlabel='SepalWidthCm', ylabel='PetalLengthCm'>"
      ]
     },
     "execution_count": 38,
     "metadata": {},
     "output_type": "execute_result"
    },
    {
     "data": {
      "image/png": "[encoded data removed]",
      "text/plain": [
       "<Figure size 720x720 with 1 Axes>"
      ]
     },
     "metadata": {
      "needs_background": "light"
     },
     "output_type": "display_data"
    }
   ],
   "source": [
    "plt.figure(figsize=(10,10))\n",
    "sns.scatterplot(x='SepalWidthCm',y='PetalLengthCm',data=iris_data,marker='s', hue='Species')"
   ]
  },
  {
   "cell_type": "code",
   "execution_count": 39,
   "id": "e844a837",
   "metadata": {
    "execution": {
     "iopub.execute_input": "2022-05-21T22:11:31.177943Z",
     "iopub.status.busy": "2022-05-21T22:11:31.176893Z",
     "iopub.status.idle": "2022-05-21T22:11:31.474854Z",
     "shell.execute_reply": "2022-05-21T22:11:31.474255Z"
    },
    "papermill": {
     "duration": 0.395977,
     "end_time": "2022-05-21T22:11:31.476746",
     "exception": false,
     "start_time": "2022-05-21T22:11:31.080769",
     "status": "completed"
    },
    "tags": []
   },
   "outputs": [
    {
     "data": {
      "text/plain": [
       "<AxesSubplot:xlabel='PetalLengthCm', ylabel='PetalWidthCm'>"
      ]
     },
     "execution_count": 39,
     "metadata": {},
     "output_type": "execute_result"
    },
    {
     "data": {
      "image/png": "[encoded data removed]",
      "text/plain": [
       "<Figure size 720x720 with 1 Axes>"
      ]
     },
     "metadata": {
      "needs_background": "light"
     },
     "output_type": "display_data"
    }
   ],
   "source": [
    "plt.figure(figsize=(10,10))\n",
    "sns.scatterplot(x='PetalLengthCm',y='PetalWidthCm',data=iris_data,marker='s', hue='Species')"
   ]
  },
  {
   "cell_type": "markdown",
   "id": "ac4ddab5",
   "metadata": {
    "papermill": {
     "duration": 0.099019,
     "end_time": "2022-05-21T22:11:31.673347",
     "exception": false,
     "start_time": "2022-05-21T22:11:31.574328",
     "status": "completed"
    },
    "tags": []
   },
   "source": [
    "# **Data standardaization**"
   ]
  },
  {
   "cell_type": "code",
   "execution_count": 40,
   "id": "04bd781e",
   "metadata": {
    "execution": {
     "iopub.execute_input": "2022-05-21T22:11:31.869991Z",
     "iopub.status.busy": "2022-05-21T22:11:31.869252Z",
     "iopub.status.idle": "2022-05-21T22:11:32.009243Z",
     "shell.execute_reply": "2022-05-21T22:11:32.008228Z"
    },
    "papermill": {
     "duration": 0.240977,
     "end_time": "2022-05-21T22:11:32.011591",
     "exception": false,
     "start_time": "2022-05-21T22:11:31.770614",
     "status": "completed"
    },
    "tags": []
   },
   "outputs": [],
   "source": [
    "from sklearn.preprocessing import LabelEncoder\n",
    "le= LabelEncoder()\n",
    "iris_data['Species']= le.fit_transform(iris_data['Species'])"
   ]
  },
  {
   "cell_type": "code",
   "execution_count": 41,
   "id": "7b7d23aa",
   "metadata": {
    "execution": {
     "iopub.execute_input": "2022-05-21T22:11:32.213277Z",
     "iopub.status.busy": "2022-05-21T22:11:32.212937Z",
     "iopub.status.idle": "2022-05-21T22:11:32.219305Z",
     "shell.execute_reply": "2022-05-21T22:11:32.218692Z"
    },
    "papermill": {
     "duration": 0.109438,
     "end_time": "2022-05-21T22:11:32.221914",
     "exception": false,
     "start_time": "2022-05-21T22:11:32.112476",
     "status": "completed"
    },
    "tags": []
   },
   "outputs": [
    {
     "data": {
      "text/plain": [
       "0      0\n",
       "1      0\n",
       "2      0\n",
       "3      0\n",
       "4      0\n",
       "      ..\n",
       "145    2\n",
       "146    2\n",
       "147    2\n",
       "148    2\n",
       "149    2\n",
       "Name: Species, Length: 150, dtype: int64"
      ]
     },
     "execution_count": 41,
     "metadata": {},
     "output_type": "execute_result"
    }
   ],
   "source": [
    "iris_data.Species"
   ]
  },
  {
   "cell_type": "code",
   "execution_count": 42,
   "id": "9a171bd7",
   "metadata": {
    "execution": {
     "iopub.execute_input": "2022-05-21T22:11:32.418640Z",
     "iopub.status.busy": "2022-05-21T22:11:32.417641Z",
     "iopub.status.idle": "2022-05-21T22:11:32.423343Z",
     "shell.execute_reply": "2022-05-21T22:11:32.422681Z"
    },
    "papermill": {
     "duration": 0.105365,
     "end_time": "2022-05-21T22:11:32.425412",
     "exception": false,
     "start_time": "2022-05-21T22:11:32.320047",
     "status": "completed"
    },
    "tags": []
   },
   "outputs": [
    {
     "data": {
      "text/plain": [
       "3"
      ]
     },
     "execution_count": 42,
     "metadata": {},
     "output_type": "execute_result"
    }
   ],
   "source": [
    "iris_data.Species.nunique()"
   ]
  },
  {
   "cell_type": "code",
   "execution_count": 43,
   "id": "35c2f829",
   "metadata": {
    "execution": {
     "iopub.execute_input": "2022-05-21T22:11:32.623877Z",
     "iopub.status.busy": "2022-05-21T22:11:32.623531Z",
     "iopub.status.idle": "2022-05-21T22:11:32.636492Z",
     "shell.execute_reply": "2022-05-21T22:11:32.635652Z"
    },
    "papermill": {
     "duration": 0.114918,
     "end_time": "2022-05-21T22:11:32.638438",
     "exception": false,
     "start_time": "2022-05-21T22:11:32.523520",
     "status": "completed"
    },
    "tags": []
   },
   "outputs": [
    {
     "data": {
      "text/html": [
       "<div>\n",
       "<style scoped>\n",
       "    .dataframe tbody tr th:only-of-type {\n",
       "        vertical-align: middle;\n",
       "    }\n",
       "\n",
       "    .dataframe tbody tr th {\n",
       "        vertical-align: top;\n",
       "    }\n",
       "\n",
       "    .dataframe thead th {\n",
       "        text-align: right;\n",
       "    }\n",
       "</style>\n",
       "<table border=\"1\" class=\"dataframe\">\n",
       "  <thead>\n",
       "    <tr style=\"text-align: right;\">\n",
       "      <th></th>\n",
       "      <th>SepalLengthCm</th>\n",
       "      <th>SepalWidthCm</th>\n",
       "      <th>PetalLengthCm</th>\n",
       "      <th>PetalWidthCm</th>\n",
       "      <th>Species</th>\n",
       "    </tr>\n",
       "  </thead>\n",
       "  <tbody>\n",
       "    <tr>\n",
       "      <th>0</th>\n",
       "      <td>5.1</td>\n",
       "      <td>3.5</td>\n",
       "      <td>1.4</td>\n",
       "      <td>0.2</td>\n",
       "      <td>0</td>\n",
       "    </tr>\n",
       "    <tr>\n",
       "      <th>1</th>\n",
       "      <td>4.9</td>\n",
       "      <td>3.0</td>\n",
       "      <td>1.4</td>\n",
       "      <td>0.2</td>\n",
       "      <td>0</td>\n",
       "    </tr>\n",
       "    <tr>\n",
       "      <th>2</th>\n",
       "      <td>4.7</td>\n",
       "      <td>3.2</td>\n",
       "      <td>1.3</td>\n",
       "      <td>0.2</td>\n",
       "      <td>0</td>\n",
       "    </tr>\n",
       "    <tr>\n",
       "      <th>3</th>\n",
       "      <td>4.6</td>\n",
       "      <td>3.1</td>\n",
       "      <td>1.5</td>\n",
       "      <td>0.2</td>\n",
       "      <td>0</td>\n",
       "    </tr>\n",
       "    <tr>\n",
       "      <th>4</th>\n",
       "      <td>5.0</td>\n",
       "      <td>3.6</td>\n",
       "      <td>1.4</td>\n",
       "      <td>0.2</td>\n",
       "      <td>0</td>\n",
       "    </tr>\n",
       "  </tbody>\n",
       "</table>\n",
       "</div>"
      ],
      "text/plain": [
       "   SepalLengthCm  SepalWidthCm  PetalLengthCm  PetalWidthCm  Species\n",
       "0            5.1           3.5            1.4           0.2        0\n",
       "1            4.9           3.0            1.4           0.2        0\n",
       "2            4.7           3.2            1.3           0.2        0\n",
       "3            4.6           3.1            1.5           0.2        0\n",
       "4            5.0           3.6            1.4           0.2        0"
      ]
     },
     "execution_count": 43,
     "metadata": {},
     "output_type": "execute_result"
    }
   ],
   "source": [
    "iris_data.head()"
   ]
  },
  {
   "cell_type": "markdown",
   "id": "159cdeef",
   "metadata": {
    "papermill": {
     "duration": 0.103242,
     "end_time": "2022-05-21T22:11:32.839735",
     "exception": false,
     "start_time": "2022-05-21T22:11:32.736493",
     "status": "completed"
    },
    "tags": []
   },
   "source": [
    "**IMPORTING OF SOME MORE LIBRARY**"
   ]
  },
  {
   "cell_type": "code",
   "execution_count": 44,
   "id": "68c56458",
   "metadata": {
    "execution": {
     "iopub.execute_input": "2022-05-21T22:11:33.040221Z",
     "iopub.status.busy": "2022-05-21T22:11:33.039630Z",
     "iopub.status.idle": "2022-05-21T22:11:33.247841Z",
     "shell.execute_reply": "2022-05-21T22:11:33.246940Z"
    },
    "papermill": {
     "duration": 0.310237,
     "end_time": "2022-05-21T22:11:33.250249",
     "exception": false,
     "start_time": "2022-05-21T22:11:32.940012",
     "status": "completed"
    },
    "tags": []
   },
   "outputs": [],
   "source": [
    "from sklearn.model_selection import train_test_split\n",
    "from sklearn.linear_model import LogisticRegression\n",
    "from sklearn.tree import DecisionTreeClassifier\n",
    "from sklearn.neighbors import KNeighborsClassifier\n",
    "from sklearn.metrics import accuracy_score"
   ]
  },
  {
   "cell_type": "code",
   "execution_count": 45,
   "id": "511e3388",
   "metadata": {
    "execution": {
     "iopub.execute_input": "2022-05-21T22:11:33.449770Z",
     "iopub.status.busy": "2022-05-21T22:11:33.449398Z",
     "iopub.status.idle": "2022-05-21T22:11:33.463485Z",
     "shell.execute_reply": "2022-05-21T22:11:33.462692Z"
    },
    "papermill": {
     "duration": 0.116383,
     "end_time": "2022-05-21T22:11:33.466050",
     "exception": false,
     "start_time": "2022-05-21T22:11:33.349667",
     "status": "completed"
    },
    "tags": []
   },
   "outputs": [
    {
     "data": {
      "text/html": [
       "<div>\n",
       "<style scoped>\n",
       "    .dataframe tbody tr th:only-of-type {\n",
       "        vertical-align: middle;\n",
       "    }\n",
       "\n",
       "    .dataframe tbody tr th {\n",
       "        vertical-align: top;\n",
       "    }\n",
       "\n",
       "    .dataframe thead th {\n",
       "        text-align: right;\n",
       "    }\n",
       "</style>\n",
       "<table border=\"1\" class=\"dataframe\">\n",
       "  <thead>\n",
       "    <tr style=\"text-align: right;\">\n",
       "      <th></th>\n",
       "      <th>SepalLengthCm</th>\n",
       "      <th>SepalWidthCm</th>\n",
       "      <th>PetalLengthCm</th>\n",
       "      <th>PetalWidthCm</th>\n",
       "    </tr>\n",
       "  </thead>\n",
       "  <tbody>\n",
       "    <tr>\n",
       "      <th>0</th>\n",
       "      <td>5.1</td>\n",
       "      <td>3.5</td>\n",
       "      <td>1.4</td>\n",
       "      <td>0.2</td>\n",
       "    </tr>\n",
       "    <tr>\n",
       "      <th>1</th>\n",
       "      <td>4.9</td>\n",
       "      <td>3.0</td>\n",
       "      <td>1.4</td>\n",
       "      <td>0.2</td>\n",
       "    </tr>\n",
       "    <tr>\n",
       "      <th>2</th>\n",
       "      <td>4.7</td>\n",
       "      <td>3.2</td>\n",
       "      <td>1.3</td>\n",
       "      <td>0.2</td>\n",
       "    </tr>\n",
       "    <tr>\n",
       "      <th>3</th>\n",
       "      <td>4.6</td>\n",
       "      <td>3.1</td>\n",
       "      <td>1.5</td>\n",
       "      <td>0.2</td>\n",
       "    </tr>\n",
       "    <tr>\n",
       "      <th>4</th>\n",
       "      <td>5.0</td>\n",
       "      <td>3.6</td>\n",
       "      <td>1.4</td>\n",
       "      <td>0.2</td>\n",
       "    </tr>\n",
       "  </tbody>\n",
       "</table>\n",
       "</div>"
      ],
      "text/plain": [
       "   SepalLengthCm  SepalWidthCm  PetalLengthCm  PetalWidthCm\n",
       "0            5.1           3.5            1.4           0.2\n",
       "1            4.9           3.0            1.4           0.2\n",
       "2            4.7           3.2            1.3           0.2\n",
       "3            4.6           3.1            1.5           0.2\n",
       "4            5.0           3.6            1.4           0.2"
      ]
     },
     "execution_count": 45,
     "metadata": {},
     "output_type": "execute_result"
    }
   ],
   "source": [
    "x = iris_data.drop(columns=['Species'])\n",
    "y = iris_data['Species']\n",
    "x.head()"
   ]
  },
  {
   "cell_type": "code",
   "execution_count": 46,
   "id": "65917b7d",
   "metadata": {
    "execution": {
     "iopub.execute_input": "2022-05-21T22:11:33.667174Z",
     "iopub.status.busy": "2022-05-21T22:11:33.666298Z",
     "iopub.status.idle": "2022-05-21T22:11:33.673677Z",
     "shell.execute_reply": "2022-05-21T22:11:33.672639Z"
    },
    "papermill": {
     "duration": 0.110533,
     "end_time": "2022-05-21T22:11:33.675939",
     "exception": false,
     "start_time": "2022-05-21T22:11:33.565406",
     "status": "completed"
    },
    "tags": []
   },
   "outputs": [
    {
     "data": {
      "text/plain": [
       "0    0\n",
       "1    0\n",
       "2    0\n",
       "3    0\n",
       "4    0\n",
       "Name: Species, dtype: int64"
      ]
     },
     "execution_count": 46,
     "metadata": {},
     "output_type": "execute_result"
    }
   ],
   "source": [
    "y.head()"
   ]
  },
  {
   "cell_type": "code",
   "execution_count": 47,
   "id": "dd0997a4",
   "metadata": {
    "execution": {
     "iopub.execute_input": "2022-05-21T22:11:33.875066Z",
     "iopub.status.busy": "2022-05-21T22:11:33.874239Z",
     "iopub.status.idle": "2022-05-21T22:11:33.879411Z",
     "shell.execute_reply": "2022-05-21T22:11:33.878514Z"
    },
    "papermill": {
     "duration": 0.107619,
     "end_time": "2022-05-21T22:11:33.881508",
     "exception": false,
     "start_time": "2022-05-21T22:11:33.773889",
     "status": "completed"
    },
    "tags": []
   },
   "outputs": [],
   "source": [
    "lr = LogisticRegression()\n",
    "kn=KNeighborsClassifier()\n",
    "dc= DecisionTreeClassifier()"
   ]
  },
  {
   "cell_type": "code",
   "execution_count": 48,
   "id": "08ea59b9",
   "metadata": {
    "execution": {
     "iopub.execute_input": "2022-05-21T22:11:34.084156Z",
     "iopub.status.busy": "2022-05-21T22:11:34.083638Z",
     "iopub.status.idle": "2022-05-21T22:11:34.089435Z",
     "shell.execute_reply": "2022-05-21T22:11:34.088629Z"
    },
    "papermill": {
     "duration": 0.109607,
     "end_time": "2022-05-21T22:11:34.091780",
     "exception": false,
     "start_time": "2022-05-21T22:11:33.982173",
     "status": "completed"
    },
    "tags": []
   },
   "outputs": [],
   "source": [
    "x_train,x_test,y_train,y_test= train_test_split(x,y, test_size=0.23,random_state=1)"
   ]
  },
  {
   "cell_type": "code",
   "execution_count": 49,
   "id": "b19cf720",
   "metadata": {
    "execution": {
     "iopub.execute_input": "2022-05-21T22:11:34.290855Z",
     "iopub.status.busy": "2022-05-21T22:11:34.290132Z",
     "iopub.status.idle": "2022-05-21T22:11:34.335498Z",
     "shell.execute_reply": "2022-05-21T22:11:34.334667Z"
    },
    "papermill": {
     "duration": 0.147138,
     "end_time": "2022-05-21T22:11:34.337837",
     "exception": false,
     "start_time": "2022-05-21T22:11:34.190699",
     "status": "completed"
    },
    "tags": []
   },
   "outputs": [
    {
     "name": "stdout",
     "output_type": "stream",
     "text": [
      "ACCURACY OF LogisticRegressionIS 97.14285714285714\n",
      "ACCURACY OF KNeighborsClassifierIS 100.0\n",
      "ACCURACY OF DecisionTreeClassifierIS 97.14285714285714\n"
     ]
    }
   ],
   "source": [
    "models =[lr,kn,dc]\n",
    "scores=[]\n",
    "for model in models:\n",
    "    model.fit(x_train,y_train)\n",
    "    y_predict= model.predict(x_test)\n",
    "    ascores=accuracy_score(y_test,y_predict)*100\n",
    "    value= print(\"ACCURACY OF \" +type(model).__name__+ \"IS\" ,ascores)\n",
    "    scores.append(value)\n",
    "    "
   ]
  },
  {
   "cell_type": "markdown",
   "id": "edbbc66b",
   "metadata": {
    "papermill": {
     "duration": 0.099106,
     "end_time": "2022-05-21T22:11:34.536027",
     "exception": false,
     "start_time": "2022-05-21T22:11:34.436921",
     "status": "completed"
    },
    "tags": []
   },
   "source": [
    "# **AS WE CAN SEE KNEIGHBOR CLASSIFIER PREDICTS WITH 100% ACCURACY SCORE**"
   ]
  },
  {
   "cell_type": "markdown",
   "id": "977ee77b",
   "metadata": {
    "_kg_hide-input": false,
    "papermill": {
     "duration": 0.098908,
     "end_time": "2022-05-21T22:11:34.732412",
     "exception": false,
     "start_time": "2022-05-21T22:11:34.633504",
     "status": "completed"
    },
    "tags": []
   },
   "source": [
    "# **THANK YOU**"
   ]
  }
 ],
 "metadata": {
  "kernelspec": {
   "display_name": "Python 3",
   "language": "python",
   "name": "python3"
  },
  "language_info": {
   "codemirror_mode": {
    "name": "ipython",
    "version": 3
   },
   "file_extension": ".py",
   "mimetype": "text/x-python",
   "name": "python",
   "nbconvert_exporter": "python",
   "pygments_lexer": "ipython3",
   "version": "3.7.12"
  },
  "papermill": {
   "default_parameters": {},
   "duration": 31.806263,
   "end_time": "2022-05-21T22:11:35.752302",
   "environment_variables": {},
   "exception": null,
   "input_path": "__notebook__.ipynb",
   "output_path": "__notebook__.ipynb",
   "parameters": {},
   "start_time": "2022-05-21T22:11:03.946039",
   "version": "2.3.4"
  }
 },
 "nbformat": 4,
 "nbformat_minor": 5
}
